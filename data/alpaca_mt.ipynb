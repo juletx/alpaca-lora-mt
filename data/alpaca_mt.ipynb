{
 "cells": [
  {
   "cell_type": "code",
   "execution_count": 1,
   "metadata": {},
   "outputs": [
    {
     "name": "stderr",
     "output_type": "stream",
     "text": [
      "/gaueko0/users/jetxaniz007/alpaca-lora-mt/venv/lib/python3.9/site-packages/tqdm/auto.py:21: TqdmWarning: IProgress not found. Please update jupyter and ipywidgets. See https://ipywidgets.readthedocs.io/en/stable/user_install.html\n",
      "  from .autonotebook import tqdm as notebook_tqdm\n",
      "Old caching folder /gaueko0/users/jetxaniz007/.cache/huggingface/datasets/alpaca_mt/en/1.0.0/eeddb7d644d408a187797649d30e9e3a719f5fbfa516c0906ce4f0d5e130a273 for dataset alpaca_mt exists but not data were found. Removing it. \n"
     ]
    },
    {
     "name": "stdout",
     "output_type": "stream",
     "text": [
      "Downloading and preparing dataset alpaca_mt/en to /gaueko0/users/jetxaniz007/.cache/huggingface/datasets/alpaca_mt/en/1.0.0/eeddb7d644d408a187797649d30e9e3a719f5fbfa516c0906ce4f0d5e130a273...\n"
     ]
    },
    {
     "name": "stderr",
     "output_type": "stream",
     "text": [
      "Downloading data files: 100%|██████████| 1/1 [00:00<00:00, 6096.37it/s]\n",
      "Extracting data files: 100%|██████████| 1/1 [00:00<00:00, 257.21it/s]\n",
      "                                                                   \r"
     ]
    },
    {
     "name": "stdout",
     "output_type": "stream",
     "text": [
      "Dataset alpaca_mt downloaded and prepared to /gaueko0/users/jetxaniz007/.cache/huggingface/datasets/alpaca_mt/en/1.0.0/eeddb7d644d408a187797649d30e9e3a719f5fbfa516c0906ce4f0d5e130a273. Subsequent calls will reuse this data.\n"
     ]
    },
    {
     "name": "stderr",
     "output_type": "stream",
     "text": [
      "100%|██████████| 1/1 [00:00<00:00,  3.25it/s]\n"
     ]
    },
    {
     "name": "stdout",
     "output_type": "stream",
     "text": [
      "Downloading and preparing dataset alpaca_mt/pt (download: 22.65 MiB, generated: 32.22 MiB, post-processed: Unknown size, total: 54.87 MiB) to /gaueko0/users/jetxaniz007/.cache/huggingface/datasets/alpaca_mt/pt/1.0.0/eeddb7d644d408a187797649d30e9e3a719f5fbfa516c0906ce4f0d5e130a273...\n"
     ]
    },
    {
     "name": "stderr",
     "output_type": "stream",
     "text": [
      "Downloading data files: 100%|██████████| 1/1 [00:00<00:00, 3858.61it/s]\n",
      "Extracting data files: 100%|██████████| 1/1 [00:00<00:00, 47.56it/s]\n",
      "                                                                                       \r"
     ]
    },
    {
     "name": "stdout",
     "output_type": "stream",
     "text": [
      "Dataset alpaca_mt downloaded and prepared to /gaueko0/users/jetxaniz007/.cache/huggingface/datasets/alpaca_mt/pt/1.0.0/eeddb7d644d408a187797649d30e9e3a719f5fbfa516c0906ce4f0d5e130a273. Subsequent calls will reuse this data.\n"
     ]
    },
    {
     "name": "stderr",
     "output_type": "stream",
     "text": [
      "100%|██████████| 1/1 [00:00<00:00,  3.04it/s]\n"
     ]
    },
    {
     "name": "stdout",
     "output_type": "stream",
     "text": [
      "Downloading and preparing dataset alpaca_mt/es (download: 23.57 MiB, generated: 34.41 MiB, post-processed: Unknown size, total: 57.98 MiB) to /gaueko0/users/jetxaniz007/.cache/huggingface/datasets/alpaca_mt/es/1.0.0/eeddb7d644d408a187797649d30e9e3a719f5fbfa516c0906ce4f0d5e130a273...\n"
     ]
    },
    {
     "name": "stderr",
     "output_type": "stream",
     "text": [
      "Downloading data files: 100%|██████████| 1/1 [00:00<00:00, 5645.09it/s]\n",
      "Extracting data files: 100%|██████████| 1/1 [00:00<00:00, 416.23it/s]\n",
      "                                                                                       \r"
     ]
    },
    {
     "name": "stdout",
     "output_type": "stream",
     "text": [
      "Dataset alpaca_mt downloaded and prepared to /gaueko0/users/jetxaniz007/.cache/huggingface/datasets/alpaca_mt/es/1.0.0/eeddb7d644d408a187797649d30e9e3a719f5fbfa516c0906ce4f0d5e130a273. Subsequent calls will reuse this data.\n"
     ]
    },
    {
     "name": "stderr",
     "output_type": "stream",
     "text": [
      "100%|██████████| 1/1 [00:00<00:00,  2.92it/s]\n"
     ]
    },
    {
     "name": "stdout",
     "output_type": "stream",
     "text": [
      "Downloading and preparing dataset alpaca_mt/ca (download: 22.26 MiB, generated: 32.55 MiB, post-processed: Unknown size, total: 54.80 MiB) to /gaueko0/users/jetxaniz007/.cache/huggingface/datasets/alpaca_mt/ca/1.0.0/eeddb7d644d408a187797649d30e9e3a719f5fbfa516c0906ce4f0d5e130a273...\n"
     ]
    },
    {
     "name": "stderr",
     "output_type": "stream",
     "text": [
      "Downloading data files: 100%|██████████| 1/1 [00:00<00:00, 6605.20it/s]\n",
      "Extracting data files: 100%|██████████| 1/1 [00:00<00:00, 51.23it/s]\n",
      "                                                                                       \r"
     ]
    },
    {
     "name": "stdout",
     "output_type": "stream",
     "text": [
      "Dataset alpaca_mt downloaded and prepared to /gaueko0/users/jetxaniz007/.cache/huggingface/datasets/alpaca_mt/ca/1.0.0/eeddb7d644d408a187797649d30e9e3a719f5fbfa516c0906ce4f0d5e130a273. Subsequent calls will reuse this data.\n"
     ]
    },
    {
     "name": "stderr",
     "output_type": "stream",
     "text": [
      "100%|██████████| 1/1 [00:00<00:00,  3.05it/s]\n"
     ]
    },
    {
     "name": "stdout",
     "output_type": "stream",
     "text": [
      "Downloading and preparing dataset alpaca_mt/eu (download: 19.74 MiB, generated: 28.76 MiB, post-processed: Unknown size, total: 48.51 MiB) to /gaueko0/users/jetxaniz007/.cache/huggingface/datasets/alpaca_mt/eu/1.0.0/eeddb7d644d408a187797649d30e9e3a719f5fbfa516c0906ce4f0d5e130a273...\n"
     ]
    },
    {
     "name": "stderr",
     "output_type": "stream",
     "text": [
      "Downloading data files: 100%|██████████| 1/1 [00:00<00:00, 1268.69it/s]\n",
      "Extracting data files: 100%|██████████| 1/1 [00:00<00:00, 50.85it/s]\n",
      "                                                                                       \r"
     ]
    },
    {
     "name": "stdout",
     "output_type": "stream",
     "text": [
      "Dataset alpaca_mt downloaded and prepared to /gaueko0/users/jetxaniz007/.cache/huggingface/datasets/alpaca_mt/eu/1.0.0/eeddb7d644d408a187797649d30e9e3a719f5fbfa516c0906ce4f0d5e130a273. Subsequent calls will reuse this data.\n"
     ]
    },
    {
     "name": "stderr",
     "output_type": "stream",
     "text": [
      "  0%|          | 0/1 [00:00<?, ?it/s]"
     ]
    }
   ],
   "source": [
    "from datasets import load_dataset, DatasetDict\n",
    "\n",
    "_LANG = [\"en\", \"pt\", \"es\", \"ca\", \"eu\", \"gl\", \"at\"]\n",
    "alpaca_mt = DatasetDict()\n",
    "for lang in _LANG:\n",
    "    alpaca_mt[lang] = load_dataset(\"alpaca_mt.py\", lang)"
   ]
  },
  {
   "cell_type": "code",
   "execution_count": 8,
   "metadata": {},
   "outputs": [
    {
     "data": {
      "text/plain": [
       "dict_keys(['en', 'pt', 'es', 'ca', 'eu', 'gl', 'at'])"
      ]
     },
     "execution_count": 8,
     "metadata": {},
     "output_type": "execute_result"
    }
   ],
   "source": [
    "alpaca_mt.keys()"
   ]
  },
  {
   "cell_type": "code",
   "execution_count": 9,
   "metadata": {},
   "outputs": [
    {
     "data": {
      "text/plain": [
       "{'instruction': 'Emadazu hiru aholku osasuntsu egoteko.\\n',\n",
       " 'input': '',\n",
       " 'output': '1.- Elikadura orekatu bat eduki eta fruta eta barazki ugari eduki. 2.- Ariketa fisiko erregular bat egin gorputza aktibo eta indartsu mantentzeko. 3.- Lo nahikoa egin eta ordutegi egoki bat mantentzea.\\n',\n",
       " 'prompt': 'Azpian ataza bat deskribatzen duen instruzio bat dago. Idatzi eskaera behar bezala betetzen duen erantzuna.\\n\\n### Instrukzioa:\\nEmadazu hiru aholku osasuntsu egoteko.\\n\\n\\n### Erantzuna:\\n'}"
      ]
     },
     "execution_count": 9,
     "metadata": {},
     "output_type": "execute_result"
    }
   ],
   "source": [
    "alpaca_mt[\"eu\"][\"train\"][0]"
   ]
  }
 ],
 "metadata": {
  "kernelspec": {
   "display_name": "venv",
   "language": "python",
   "name": "python3"
  },
  "language_info": {
   "codemirror_mode": {
    "name": "ipython",
    "version": 3
   },
   "file_extension": ".py",
   "mimetype": "text/x-python",
   "name": "python",
   "nbconvert_exporter": "python",
   "pygments_lexer": "ipython3",
   "version": "3.9.7"
  },
  "orig_nbformat": 4
 },
 "nbformat": 4,
 "nbformat_minor": 2
}
