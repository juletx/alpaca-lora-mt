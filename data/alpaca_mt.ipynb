{
 "cells": [
  {
   "cell_type": "code",
   "execution_count": 1,
   "metadata": {},
   "outputs": [
    {
     "name": "stderr",
     "output_type": "stream",
     "text": [
      "/gaueko0/users/jetxaniz007/alpaca-lora-mt/venv/lib/python3.9/site-packages/tqdm/auto.py:21: TqdmWarning: IProgress not found. Please update jupyter and ipywidgets. See https://ipywidgets.readthedocs.io/en/stable/user_install.html\n",
      "  from .autonotebook import tqdm as notebook_tqdm\n"
     ]
    },
    {
     "name": "stdout",
     "output_type": "stream",
     "text": [
      "Downloading and preparing dataset alpaca_mt/en to /gaueko0/users/jetxaniz007/.cache/huggingface/datasets/alpaca_mt/en/1.0.0/9e2cd43e5e152cf3afcd3efd75a62584bb464e27935428d9261609b550d58953...\n"
     ]
    },
    {
     "name": "stderr",
     "output_type": "stream",
     "text": [
      "Downloading data: 22.8MB [00:00, 62.9MB/s]/1 [00:00<?, ?it/s]\n",
      "Downloading data files: 100%|██████████| 1/1 [00:05<00:00,  5.23s/it]\n",
      "Extracting data files: 100%|██████████| 1/1 [00:00<00:00, 41.35it/s]\n",
      "                                                                   \r"
     ]
    },
    {
     "name": "stdout",
     "output_type": "stream",
     "text": [
      "Dataset alpaca_mt downloaded and prepared to /gaueko0/users/jetxaniz007/.cache/huggingface/datasets/alpaca_mt/en/1.0.0/9e2cd43e5e152cf3afcd3efd75a62584bb464e27935428d9261609b550d58953. Subsequent calls will reuse this data.\n"
     ]
    },
    {
     "name": "stderr",
     "output_type": "stream",
     "text": [
      "100%|██████████| 1/1 [00:00<00:00,  2.81it/s]\n",
      "Found cached dataset alpaca_mt (/gaueko0/users/jetxaniz007/.cache/huggingface/datasets/alpaca_mt/en/1.0.0/9e2cd43e5e152cf3afcd3efd75a62584bb464e27935428d9261609b550d58953)\n",
      "100%|██████████| 1/1 [00:00<00:00, 441.88it/s]\n",
      "Found cached dataset alpaca_mt (/gaueko0/users/jetxaniz007/.cache/huggingface/datasets/alpaca_mt/en/1.0.0/9e2cd43e5e152cf3afcd3efd75a62584bb464e27935428d9261609b550d58953)\n",
      "100%|██████████| 1/1 [00:00<00:00, 486.01it/s]\n",
      "Found cached dataset alpaca_mt (/gaueko0/users/jetxaniz007/.cache/huggingface/datasets/alpaca_mt/en/1.0.0/9e2cd43e5e152cf3afcd3efd75a62584bb464e27935428d9261609b550d58953)\n",
      "100%|██████████| 1/1 [00:00<00:00, 483.44it/s]\n",
      "Found cached dataset alpaca_mt (/gaueko0/users/jetxaniz007/.cache/huggingface/datasets/alpaca_mt/en/1.0.0/9e2cd43e5e152cf3afcd3efd75a62584bb464e27935428d9261609b550d58953)\n",
      "100%|██████████| 1/1 [00:00<00:00, 517.37it/s]\n",
      "Found cached dataset alpaca_mt (/gaueko0/users/jetxaniz007/.cache/huggingface/datasets/alpaca_mt/en/1.0.0/9e2cd43e5e152cf3afcd3efd75a62584bb464e27935428d9261609b550d58953)\n",
      "100%|██████████| 1/1 [00:00<00:00, 495.66it/s]\n"
     ]
    }
   ],
   "source": [
    "from datasets import load_dataset, DatasetDict\n",
    "\n",
    "_LANG = [\"en\", \"pt\", \"es\", \"ca\", \"eu\", \"gl\"]\n",
    "alpaca_mt = DatasetDict()\n",
    "for lang in _LANG:\n",
    "    alpaca_mt[lang] = load_dataset(\"alpaca_mt.py\", \"en\")"
   ]
  },
  {
   "cell_type": "code",
   "execution_count": 6,
   "metadata": {},
   "outputs": [
    {
     "data": {
      "text/plain": [
       "DatasetDict({\n",
       "    en: DatasetDict({\n",
       "        train: Dataset({\n",
       "            features: ['instruction', 'input', 'output', 'prompt'],\n",
       "            num_rows: 51942\n",
       "        })\n",
       "    })\n",
       "    pt: DatasetDict({\n",
       "        train: Dataset({\n",
       "            features: ['instruction', 'input', 'output', 'prompt'],\n",
       "            num_rows: 51942\n",
       "        })\n",
       "    })\n",
       "    es: DatasetDict({\n",
       "        train: Dataset({\n",
       "            features: ['instruction', 'input', 'output', 'prompt'],\n",
       "            num_rows: 51942\n",
       "        })\n",
       "    })\n",
       "    ca: DatasetDict({\n",
       "        train: Dataset({\n",
       "            features: ['instruction', 'input', 'output', 'prompt'],\n",
       "            num_rows: 51942\n",
       "        })\n",
       "    })\n",
       "    eu: DatasetDict({\n",
       "        train: Dataset({\n",
       "            features: ['instruction', 'input', 'output', 'prompt'],\n",
       "            num_rows: 51942\n",
       "        })\n",
       "    })\n",
       "    gl: DatasetDict({\n",
       "        train: Dataset({\n",
       "            features: ['instruction', 'input', 'output', 'prompt'],\n",
       "            num_rows: 51942\n",
       "        })\n",
       "    })\n",
       "})"
      ]
     },
     "execution_count": 6,
     "metadata": {},
     "output_type": "execute_result"
    }
   ],
   "source": [
    "alpaca_mt"
   ]
  },
  {
   "cell_type": "code",
   "execution_count": 5,
   "metadata": {},
   "outputs": [
    {
     "data": {
      "text/plain": [
       "{'instruction': 'Give three tips for staying healthy.',\n",
       " 'input': '',\n",
       " 'output': '1.Eat a balanced diet and make sure to include plenty of fruits and vegetables. \\n2. Exercise regularly to keep your body active and strong. \\n3. Get enough sleep and maintain a consistent sleep schedule.',\n",
       " 'prompt': 'Below is an instruction that describes a task. Write a response that appropriately completes the request.\\n\\n### Instruction:\\nGive three tips for staying healthy.\\n\\n### Response:\\n'}"
      ]
     },
     "execution_count": 5,
     "metadata": {},
     "output_type": "execute_result"
    }
   ],
   "source": [
    "alpaca_mt[\"en\"][\"train\"][0]"
   ]
  }
 ],
 "metadata": {
  "kernelspec": {
   "display_name": "venv",
   "language": "python",
   "name": "python3"
  },
  "language_info": {
   "codemirror_mode": {
    "name": "ipython",
    "version": 3
   },
   "file_extension": ".py",
   "mimetype": "text/x-python",
   "name": "python",
   "nbconvert_exporter": "python",
   "pygments_lexer": "ipython3",
   "version": "3.9.7"
  },
  "orig_nbformat": 4
 },
 "nbformat": 4,
 "nbformat_minor": 2
}
