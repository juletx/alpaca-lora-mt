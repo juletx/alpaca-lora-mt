{
 "cells": [
  {
   "cell_type": "code",
   "execution_count": 1,
   "id": "0b0eb471",
   "metadata": {},
   "outputs": [
    {
     "name": "stderr",
     "output_type": "stream",
     "text": [
      "/gaueko0/users/jetxaniz007/alpaca-lora-mt/venv/lib/python3.9/site-packages/tqdm/auto.py:21: TqdmWarning: IProgress not found. Please update jupyter and ipywidgets. See https://ipywidgets.readthedocs.io/en/stable/user_install.html\n",
      "  from .autonotebook import tqdm as notebook_tqdm\n"
     ]
    }
   ],
   "source": [
    "from tqdm.auto import tqdm\n",
    "import json\n",
    "from typing import List\n",
    "import random\n",
    "import re\n",
    "import ast"
   ]
  },
  {
   "cell_type": "code",
   "execution_count": 2,
   "id": "a7b31b6e",
   "metadata": {},
   "outputs": [],
   "source": [
    "def encode_string(text):\n",
    "    return text.replace(\"\\r\", r\"\\r\").replace(\"\\n\", r\"\\n\").replace(\"\\t\", r\"\\t\")\n",
    "\n",
    "\n",
    "def decode_string(text):\n",
    "    return text.replace(\"\\\\r\", \"\\r\").replace(\"\\\\n\", \"\\n\").replace(\"\\\\t\", \"\\t\")\n",
    "\n",
    "\n",
    "def prepare_data_for_translation(original_json: str, output_path: str):\n",
    "    with open(original_json, \"r\", encoding=\"utf-8\") as original_file, open(\n",
    "        output_path, \"w\", encoding=\"utf-8\"\n",
    "    ) as output_file:\n",
    "        data = json.load(original_file)\n",
    "        for example in tqdm(data):\n",
    "            instruction = example[\"instruction\"].strip()\n",
    "            model_input = example[\"input\"].strip()\n",
    "            model_output = example[\"output\"].strip()\n",
    "            if len(instruction) > 0:\n",
    "                print(\n",
    "                    encode_string(instruction),\n",
    "                    file=output_file,\n",
    "                )\n",
    "            if len(model_input) > 0:\n",
    "                print(\n",
    "                    encode_string(model_input),\n",
    "                    file=output_file,\n",
    "                )\n",
    "            if len(model_output) > 0:\n",
    "                print(\n",
    "                    encode_string(model_output),\n",
    "                    file=output_file,\n",
    "                )\n",
    "\n",
    "\n",
    "def is_numbers(text):\n",
    "    return re.search(\"[a-zA-Z]\", text) is None\n",
    "\n",
    "\n",
    "def is_code(text):\n",
    "    try:\n",
    "        ast.parse(text)\n",
    "    except SyntaxError:\n",
    "        return False\n",
    "    return True\n",
    "\n",
    "\n",
    "def build_from_translation(original_json: str, translations: str, output_json: str):\n",
    "    with open(original_json, \"r\", encoding=\"utf-8\") as original_file, open(\n",
    "        translations, \"r\", encoding=\"utf-8\"\n",
    "    ) as translation_file, open(output_json, \"w\", encoding=\"utf-8\") as output_file:\n",
    "        data = json.load(original_file)\n",
    "        translations = translation_file.readlines()\n",
    "        translations = [decode_string(line) for line in translations]\n",
    "        output_dict = []\n",
    "        i = 0\n",
    "        for example in tqdm(data):\n",
    "            translated_example = {\"instruction\": \"\", \"input\": \"\", \"output\": \"\"}\n",
    "            instruction = example[\"instruction\"].strip()\n",
    "            model_input = example[\"input\"].strip()\n",
    "            model_output = example[\"output\"].strip()\n",
    "\n",
    "            if len(instruction) > 0:\n",
    "                if is_numbers(instruction) or is_code(instruction):\n",
    "                    translated_example[\"instruction\"] = instruction\n",
    "                else:\n",
    "                    translated_example[\"instruction\"] = translations[i]\n",
    "                i += 1\n",
    "            if len(model_input) > 0:\n",
    "                if is_numbers(model_input) or is_code(model_input):\n",
    "                    translated_example[\"input\"] = model_input\n",
    "                else:\n",
    "                    translated_example[\"input\"] = translations[i]\n",
    "                i += 1\n",
    "            if len(model_output) > 0:\n",
    "                if is_numbers(model_output) or is_code(model_output):\n",
    "                    translated_example[\"output\"] = model_output\n",
    "                else:\n",
    "                    translated_example[\"output\"] = translations[i]\n",
    "                i += 1\n",
    "\n",
    "            output_dict.append(translated_example)\n",
    "\n",
    "        json.dump(output_dict, output_file, indent=4, ensure_ascii=False)\n",
    "\n",
    "\n",
    "def merge_examples(json_paths: List[str], output_path: str):\n",
    "    merged_examples = []\n",
    "    for json_path in json_paths:\n",
    "        with open(json_path, \"r\", encoding=\"utf-8\") as json_path:\n",
    "            data = json.load(json_path)\n",
    "            merged_examples.extend(data)\n",
    "\n",
    "    # shuffle\n",
    "    random.shuffle(merged_examples)\n",
    "    with open(output_path, \"w\", encoding=\"utf-8\") as output_file:\n",
    "        json.dump(merged_examples, output_file, indent=4, ensure_ascii=False)"
   ]
  },
  {
   "cell_type": "code",
   "execution_count": 3,
   "id": "5a0a3551",
   "metadata": {},
   "outputs": [
    {
     "data": {
      "application/vnd.jupyter.widget-view+json": {
       "model_id": "2891cc5984234c0294a969dbc1618c55",
       "version_major": 2,
       "version_minor": 0
      },
      "text/plain": [
       "  0%|          | 0/51942 [00:00<?, ?it/s]"
      ]
     },
     "metadata": {},
     "output_type": "display_data"
    }
   ],
   "source": [
    "prepare_data_for_translation(\n",
    "    \"../data/alpaca_data_cleaned.json\", \"../data/en.sentences.txt\"\n",
    ")"
   ]
  },
  {
   "cell_type": "code",
   "execution_count": 3,
   "id": "4ad327bb",
   "metadata": {},
   "outputs": [],
   "source": [
    "path = \"/ikerlariak/igarcia945/alpaca-lora-mt/data/\""
   ]
  },
  {
   "cell_type": "code",
   "execution_count": 12,
   "id": "5b1fc33a",
   "metadata": {},
   "outputs": [
    {
     "name": "stderr",
     "output_type": "stream",
     "text": [
      "100%|██████████| 51942/51942 [00:01<00:00, 32704.05it/s]\n"
     ]
    }
   ],
   "source": [
    "build_from_translation(\n",
    "    path + \"../data/alpaca_data_cleaned.json\",\n",
    "    path + \"../data/en.sentences.txt\",\n",
    "    \"../data/en.sanitycheck.json\",\n",
    ")"
   ]
  },
  {
   "cell_type": "code",
   "execution_count": 5,
   "id": "569e93e8",
   "metadata": {},
   "outputs": [
    {
     "name": "stderr",
     "output_type": "stream",
     "text": [
      "100%|██████████| 51942/51942 [00:01<00:00, 32667.49it/s]\n",
      "100%|██████████| 51942/51942 [00:01<00:00, 31272.51it/s]\n",
      "100%|██████████| 51942/51942 [00:01<00:00, 33036.00it/s]\n",
      "100%|██████████| 51942/51942 [00:01<00:00, 33603.72it/s]\n",
      "100%|██████████| 51942/51942 [00:01<00:00, 34267.81it/s]\n",
      "100%|██████████| 51942/51942 [00:01<00:00, 34706.76it/s]\n"
     ]
    }
   ],
   "source": [
    "lang_codes = {\n",
    "    \"spa_Latn\": \"es\",\n",
    "    \"glg_Latn\": \"gl\",\n",
    "    \"eus_Latn\": \"eu\",\n",
    "    \"cat_Latn\": \"ca\",\n",
    "    \"por_Latn\": \"pt\",\n",
    "    \"ast_Latn\": \"at\",\n",
    "}\n",
    "\n",
    "for code3, code2 in lang_codes.items():\n",
    "    build_from_translation(\n",
    "        path + \"../data/alpaca_data_cleaned.json\",\n",
    "        path + f\"../data/{code3}.sentences.txt\",\n",
    "        f\"../data/alpaca_data_cleaned_{code2}.json\",\n",
    "    )"
   ]
  },
  {
   "cell_type": "code",
   "execution_count": 13,
   "id": "8bd3faee",
   "metadata": {},
   "outputs": [
    {
     "name": "stderr",
     "output_type": "stream",
     "text": [
      "100%|██████████| 51942/51942 [00:01<00:00, 30501.18it/s]\n"
     ]
    }
   ],
   "source": [
    "build_from_translation(\n",
    "    path + \"../data/alpaca_data_cleaned.json\",\n",
    "    path + \"../data/spa_Latn.sentences.txt\",\n",
    "    \"../data/alpaca_data_cleaned_es.json\",\n",
    ")"
   ]
  },
  {
   "cell_type": "code",
   "execution_count": 14,
   "id": "30bb5613",
   "metadata": {},
   "outputs": [
    {
     "name": "stderr",
     "output_type": "stream",
     "text": [
      "100%|██████████| 51942/51942 [00:01<00:00, 32112.65it/s]\n"
     ]
    }
   ],
   "source": [
    "build_from_translation(\n",
    "    path + \"../data/alpaca_data_cleaned.json\",\n",
    "    path + \"../data/eus_Latn.sentences.txt\",\n",
    "    \"../data/alpaca_data_cleaned_eu.json\",\n",
    ")"
   ]
  },
  {
   "cell_type": "code",
   "execution_count": 21,
   "id": "27181a73",
   "metadata": {},
   "outputs": [
    {
     "data": {
      "text/plain": [
       "False"
      ]
     },
     "execution_count": 21,
     "metadata": {},
     "output_type": "execute_result"
    }
   ],
   "source": []
  },
  {
   "cell_type": "code",
   "execution_count": null,
   "id": "8278212b",
   "metadata": {},
   "outputs": [],
   "source": []
  }
 ],
 "metadata": {
  "kernelspec": {
   "display_name": "venv",
   "language": "python",
   "name": "python3"
  },
  "language_info": {
   "codemirror_mode": {
    "name": "ipython",
    "version": 3
   },
   "file_extension": ".py",
   "mimetype": "text/x-python",
   "name": "python",
   "nbconvert_exporter": "python",
   "pygments_lexer": "ipython3",
   "version": "3.9.7"
  }
 },
 "nbformat": 4,
 "nbformat_minor": 5
}
