{
 "cells": [
  {
   "cell_type": "code",
   "execution_count": 22,
   "id": "0b0eb471",
   "metadata": {},
   "outputs": [],
   "source": [
    "from tqdm.auto import tqdm\n",
    "import json\n",
    "from typing import List\n",
    "import random\n",
    "import re\n",
    "import ast"
   ]
  },
  {
   "cell_type": "code",
   "execution_count": 25,
   "id": "a7b31b6e",
   "metadata": {},
   "outputs": [],
   "source": [
    "def encode_string(text):\n",
    "    return text.replace(\"\\r\", r\"\\r\").replace(\"\\n\", r\"\\n\").replace(\"\\t\", r\"\\t\")\n",
    "\n",
    "\n",
    "def decode_string(text):\n",
    "    return text.replace(\"\\\\r\", \"\\r\").replace(\"\\\\n\", \"\\n\").replace(\"\\\\t\", \"\\t\")\n",
    "\n",
    "\n",
    "def prepare_data_for_translation(original_json: str, output_path: str):\n",
    "    with open(original_json, \"r\", encoding=\"utf-8\") as original_file, open(\n",
    "        output_path, \"w\", encoding=\"utf-8\"\n",
    "    ) as output_file:\n",
    "        data = json.load(original_file)\n",
    "        for example in tqdm(data):\n",
    "            instruction = example[\"instruction\"].strip()\n",
    "            model_input = example[\"input\"].strip()\n",
    "            model_output = example[\"output\"].strip()\n",
    "            if len(instruction) > 0:\n",
    "                print(\n",
    "                    encode_string(instruction),\n",
    "                    file=output_file,\n",
    "                )\n",
    "            if len(model_input) > 0:\n",
    "                print(\n",
    "                    encode_string(model_input),\n",
    "                    file=output_file,\n",
    "                )\n",
    "            if len(model_output) > 0:\n",
    "                print(\n",
    "                    encode_string(model_output),\n",
    "                    file=output_file,\n",
    "                )\n",
    "\n",
    "\n",
    "def is_numbers(text):\n",
    "    return re.search(\"[a-zA-Z]\", text) is None\n",
    "\n",
    "\n",
    "def is_code(text):\n",
    "    try:\n",
    "        ast.parse(text)\n",
    "    except SyntaxError:\n",
    "        return False\n",
    "    return True\n",
    "\n",
    "\n",
    "def build_from_translation(original_json: str, translations: str, output_json: str):\n",
    "    with open(original_json, \"r\", encoding=\"utf-8\") as original_file, open(\n",
    "        translations, \"r\", encoding=\"utf-8\"\n",
    "    ) as translation_file, open(output_json, \"w\", encoding=\"utf-8\") as output_file:\n",
    "        data = json.load(original_file)\n",
    "        translations = translation_file.readlines()\n",
    "        translations = [decode_string(line) for line in translations]\n",
    "        output_dict = []\n",
    "        i = 0\n",
    "        for example in tqdm(data):\n",
    "            translated_example = {\"instruction\": \"\", \"input\": \"\", \"output\": \"\"}\n",
    "            instruction = example[\"instruction\"].strip()\n",
    "            model_input = example[\"input\"].strip()\n",
    "            model_output = example[\"output\"].strip()\n",
    "\n",
    "            if len(instruction) > 0:\n",
    "                if is_numbers(instruction) or is_code(instruction):\n",
    "                    translated_example[\"instruction\"] = instruction\n",
    "                else:\n",
    "                    translated_example[\"instruction\"] = translations[i]\n",
    "                i += 1\n",
    "            if len(model_input) > 0:\n",
    "                if is_numbers(model_input) or is_code(model_input):\n",
    "                    translated_example[\"input\"] = model_input\n",
    "                else:\n",
    "                    translated_example[\"input\"] = translations[i]\n",
    "                i += 1\n",
    "            if len(model_output) > 0:\n",
    "                if is_numbers(model_output) or is_code(model_output):\n",
    "                    translated_example[\"output\"] = model_output\n",
    "                else:\n",
    "                    translated_example[\"output\"] = translations[i]\n",
    "                i += 1\n",
    "\n",
    "            output_dict.append(translated_example)\n",
    "\n",
    "        json.dump(output_dict, output_file, indent=4, ensure_ascii=False)\n",
    "\n",
    "\n",
    "def merge_examples(json_paths: List[str], output_path: str):\n",
    "    merged_examples = []\n",
    "    for json_path in json_paths:\n",
    "        with open(json_path, \"r\", encoding=\"utf-8\") as json_path:\n",
    "            data = json.load(json_path)\n",
    "            merged_examples.extend(data)\n",
    "\n",
    "    # shuffle\n",
    "    random.shuffle(merged_examples)\n",
    "    with open(output_path, \"w\", encoding=\"utf-8\") as output_file:\n",
    "        json.dump(merged_examples, output_file, indent=4, ensure_ascii=False)"
   ]
  },
  {
   "cell_type": "code",
   "execution_count": 26,
   "id": "5a0a3551",
   "metadata": {},
   "outputs": [
    {
     "data": {
      "text/plain": "  0%|          | 0/51942 [00:00<?, ?it/s]",
      "application/vnd.jupyter.widget-view+json": {
       "version_major": 2,
       "version_minor": 0,
       "model_id": "ca9d4665582042fd8b32e00080085e4e"
      }
     },
     "metadata": {},
     "output_type": "display_data"
    }
   ],
   "source": [
    "prepare_data_for_translation(\n",
    "    \"../data/alpaca_data_cleaned.json\", \"../data/en.sentences.txt\"\n",
    ")"
   ]
  },
  {
   "cell_type": "code",
   "execution_count": 17,
   "id": "5b1fc33a",
   "metadata": {},
   "outputs": [
    {
     "data": {
      "application/vnd.jupyter.widget-view+json": {
       "model_id": "66769e63d3e043c0a4a62d7e4638ab31",
       "version_major": 2,
       "version_minor": 0
      },
      "text/plain": [
       "  0%|          | 0/51942 [00:00<?, ?it/s]"
      ]
     },
     "metadata": {},
     "output_type": "display_data"
    }
   ],
   "source": [
    "build_from_translation(\n",
    "    \"../data/alpaca_data_cleaned.json\",\n",
    "    \"../data/en.sentences.txt\",\n",
    "    \"../data/en.sanitycheck.json\",\n",
    ")"
   ]
  },
  {
   "cell_type": "code",
   "execution_count": 27,
   "id": "8bd3faee",
   "metadata": {},
   "outputs": [
    {
     "data": {
      "text/plain": "  0%|          | 0/51942 [00:00<?, ?it/s]",
      "application/vnd.jupyter.widget-view+json": {
       "version_major": 2,
       "version_minor": 0,
       "model_id": "d8cd3ace2a864c6e90f4ec45ecf6a761"
      }
     },
     "metadata": {},
     "output_type": "display_data"
    },
    {
     "ename": "IndexError",
     "evalue": "list index out of range",
     "output_type": "error",
     "traceback": [
      "\u001B[0;31m---------------------------------------------------------------------------\u001B[0m",
      "\u001B[0;31mIndexError\u001B[0m                                Traceback (most recent call last)",
      "Cell \u001B[0;32mIn[27], line 1\u001B[0m\n\u001B[0;32m----> 1\u001B[0m \u001B[43mbuild_from_translation\u001B[49m\u001B[43m(\u001B[49m\n\u001B[1;32m      2\u001B[0m \u001B[43m    \u001B[49m\u001B[38;5;124;43m\"\u001B[39;49m\u001B[38;5;124;43m../data/alpaca_data_cleaned.json\u001B[39;49m\u001B[38;5;124;43m\"\u001B[39;49m\u001B[43m,\u001B[49m\n\u001B[1;32m      3\u001B[0m \u001B[43m    \u001B[49m\u001B[38;5;124;43m\"\u001B[39;49m\u001B[38;5;124;43m../data/spa_Latn.sentences.txt\u001B[39;49m\u001B[38;5;124;43m\"\u001B[39;49m\u001B[43m,\u001B[49m\n\u001B[1;32m      4\u001B[0m \u001B[43m    \u001B[49m\u001B[38;5;124;43m\"\u001B[39;49m\u001B[38;5;124;43m../data/spa_Latn.json\u001B[39;49m\u001B[38;5;124;43m\"\u001B[39;49m\u001B[43m,\u001B[49m\n\u001B[1;32m      5\u001B[0m \u001B[43m)\u001B[49m\n",
      "Cell \u001B[0;32mIn[25], line 78\u001B[0m, in \u001B[0;36mbuild_from_translation\u001B[0;34m(original_json, translations, output_json)\u001B[0m\n\u001B[1;32m     76\u001B[0m         translated_example[\u001B[38;5;124m\"\u001B[39m\u001B[38;5;124moutput\u001B[39m\u001B[38;5;124m\"\u001B[39m] \u001B[38;5;241m=\u001B[39m model_output\n\u001B[1;32m     77\u001B[0m     \u001B[38;5;28;01melse\u001B[39;00m:\n\u001B[0;32m---> 78\u001B[0m         translated_example[\u001B[38;5;124m\"\u001B[39m\u001B[38;5;124moutput\u001B[39m\u001B[38;5;124m\"\u001B[39m] \u001B[38;5;241m=\u001B[39m \u001B[43mtranslations\u001B[49m\u001B[43m[\u001B[49m\u001B[43mi\u001B[49m\u001B[43m]\u001B[49m\n\u001B[1;32m     79\u001B[0m     i \u001B[38;5;241m+\u001B[39m\u001B[38;5;241m=\u001B[39m \u001B[38;5;241m1\u001B[39m\n\u001B[1;32m     81\u001B[0m output_dict\u001B[38;5;241m.\u001B[39mappend(translated_example)\n",
      "\u001B[0;31mIndexError\u001B[0m: list index out of range"
     ]
    }
   ],
   "source": [
    "build_from_translation(\n",
    "    \"../data/alpaca_data_cleaned.json\",\n",
    "    \"../data/spa_Latn.sentences.txt\",\n",
    "    \"../data/spa_Latn.json\",\n",
    ")"
   ]
  },
  {
   "cell_type": "code",
   "execution_count": 17,
   "id": "30bb5613",
   "metadata": {},
   "outputs": [],
   "source": []
  },
  {
   "cell_type": "code",
   "execution_count": 21,
   "id": "27181a73",
   "metadata": {},
   "outputs": [
    {
     "data": {
      "text/plain": "False"
     },
     "execution_count": 21,
     "metadata": {},
     "output_type": "execute_result"
    }
   ],
   "source": []
  },
  {
   "cell_type": "code",
   "execution_count": null,
   "id": "8278212b",
   "metadata": {},
   "outputs": [],
   "source": []
  }
 ],
 "metadata": {
  "kernelspec": {
   "display_name": "transformers",
   "language": "python",
   "name": "transformers"
  },
  "language_info": {
   "codemirror_mode": {
    "name": "ipython",
    "version": 3
   },
   "file_extension": ".py",
   "mimetype": "text/x-python",
   "name": "python",
   "nbconvert_exporter": "python",
   "pygments_lexer": "ipython3",
   "version": "3.9.11"
  }
 },
 "nbformat": 4,
 "nbformat_minor": 5
}
