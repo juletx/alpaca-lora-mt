{
 "cells": [
  {
   "cell_type": "code",
   "execution_count": 1,
   "id": "0b0eb471",
   "metadata": {},
   "outputs": [],
   "source": [
    "from tqdm.auto import tqdm\n",
    "import json\n",
    "from typing import List\n",
    "import random"
   ]
  },
  {
   "cell_type": "code",
   "execution_count": 18,
   "id": "a7b31b6e",
   "metadata": {},
   "outputs": [],
   "source": [
    "from tqdm.auto import tqdm\n",
    "import json\n",
    "from typing import List\n",
    "import random\n",
    "import re\n",
    "\n",
    "\n",
    "def encode_string(text):\n",
    "    return text.replace(\"\\r\",r\"\\r\").replace(\"\\n\", r\"\\n\").replace(\"\\t\", r\"\\t\")\n",
    "\n",
    "def decode_string(text):\n",
    "    return text.replace(\"\\\\r\",\"\\r\").replace(\"\\\\n\", \"\\n\").replace(\"\\\\t\", \"\\t\")\n",
    "\n",
    "def prepare_data_for_translation(original_json: str, output_path: str):\n",
    "\n",
    "    with open(original_json, \"r\", encoding=\"utf-8\") as original_file, open(\n",
    "        output_path, \"w\", encoding=\"utf-8\"\n",
    "    ) as output_file:\n",
    "        data = json.load(original_file)\n",
    "        for example in tqdm(data):\n",
    "            instruction = example[\"instruction\"].strip()\n",
    "            model_input = example[\"input\"].strip()\n",
    "            model_output = example[\"output\"].strip()\n",
    "            if len(instruction) > 0:\n",
    "                print(\n",
    "                    encode_string(instruction),\n",
    "                    file=output_file,\n",
    "                )\n",
    "            if len(model_input) > 0:\n",
    "                print(\n",
    "                    encode_string(model_input),\n",
    "                    file=output_file,\n",
    "                )\n",
    "            if len(model_output) > 0:\n",
    "                print(\n",
    "                    encode_string(model_output),\n",
    "                    file=output_file,\n",
    "                )\n",
    "\n",
    "def is_numbers(text):\n",
    "     return re.search('[a-zA-Z]', text) is None\n",
    "        \n",
    "    \n",
    "    \n",
    "def build_from_translation(original_json: str, translations: str, output_json: str):\n",
    "    with open(original_json, \"r\", encoding=\"utf-8\") as original_file, open(\n",
    "        translations, \"r\", encoding=\"utf-8\"\n",
    "    ) as translation_file, open(output_json, \"w\", encoding=\"utf-8\") as output_file:\n",
    "        data = json.load(original_file)\n",
    "        translations = translation_file.readlines()\n",
    "        translations = [\n",
    "            decode_string(line.strip().replace(\"\\\\n\", \"\\n\").replace(\"\\\\t\", \"\\t\")\n",
    "            for line in translations\n",
    "        ]\n",
    "        output_dict = []\n",
    "        i = 0\n",
    "        for example in tqdm(data):\n",
    "            translated_example = {\"instruction\": \"\", \"input\": \"\", \"output\": \"\"}\n",
    "            instruction = example[\"instruction\"].strip()\n",
    "            model_input = example[\"input\"].strip()\n",
    "            model_output = example[\"output\"].strip()\n",
    "\n",
    "            if len(instruction) > 0:\n",
    "                if is_numbers(instruction):\n",
    "                    translated_example[\"instruction\"] = instruction\n",
    "                else:\n",
    "                    translated_example[\"instruction\"] = translations[i]\n",
    "                i += 1\n",
    "            if len(model_input) > 0:\n",
    "                if is_numbers(model_input):\n",
    "                    translated_example[\"input\"] = model_input\n",
    "                else:\n",
    "                    translated_example[\"input\"] = translations[i]\n",
    "                i += 1\n",
    "            if len(model_output) > 0:\n",
    "                if is_numbers(model_output):\n",
    "                    translated_example[\"output\"] = model_output\n",
    "                else:\n",
    "                    translated_example[\"output\"] = translations[i]\n",
    "                i += 1\n",
    "\n",
    "            output_dict.append(translated_example)\n",
    "\n",
    "        json.dump(output_dict, output_file, indent=4, ensure_ascii=False)\n",
    "\n",
    "\n",
    "def merge_examples(json_paths: List[str], output_path: str):\n",
    "    merged_examples = []\n",
    "    for json_path in json_paths:\n",
    "        with open(json_path, \"r\", encoding=\"utf-8\") as json_path:\n",
    "            data = json.load(json_path)\n",
    "            merged_examples.extend(data)\n",
    "\n",
    "    # shuffle\n",
    "    random.shuffle(merged_examples)\n",
    "    with open(output_path, \"w\", encoding=\"utf-8\") as output_file:\n",
    "        json.dump(merged_examples, output_file, indent=4, ensure_ascii=False)\n"
   ]
  },
  {
   "cell_type": "code",
   "execution_count": 16,
   "id": "5a0a3551",
   "metadata": {},
   "outputs": [
    {
     "data": {
      "application/vnd.jupyter.widget-view+json": {
       "model_id": "7895feb7100c44568bb0231125e58d20",
       "version_major": 2,
       "version_minor": 0
      },
      "text/plain": [
       "  0%|          | 0/51942 [00:00<?, ?it/s]"
      ]
     },
     "metadata": {},
     "output_type": "display_data"
    }
   ],
   "source": [
    "prepare_data_for_translation(\"../data/alpaca_data_cleaned.json\",\"../data/en.sentences.txt\")"
   ]
  },
  {
   "cell_type": "code",
   "execution_count": 17,
   "id": "5b1fc33a",
   "metadata": {},
   "outputs": [
    {
     "data": {
      "application/vnd.jupyter.widget-view+json": {
       "model_id": "66769e63d3e043c0a4a62d7e4638ab31",
       "version_major": 2,
       "version_minor": 0
      },
      "text/plain": [
       "  0%|          | 0/51942 [00:00<?, ?it/s]"
      ]
     },
     "metadata": {},
     "output_type": "display_data"
    }
   ],
   "source": [
    "build_from_translation(\"../data/alpaca_data_cleaned.json\",\"../data/en.sentences.txt\",\"../data/en.sanitycheck.json\")"
   ]
  },
  {
   "cell_type": "code",
   "execution_count": 12,
   "id": "8bd3faee",
   "metadata": {},
   "outputs": [],
   "source": []
  },
  {
   "cell_type": "code",
   "execution_count": null,
   "id": "30bb5613",
   "metadata": {},
   "outputs": [],
   "source": []
  },
  {
   "cell_type": "code",
   "execution_count": null,
   "id": "27181a73",
   "metadata": {},
   "outputs": [],
   "source": []
  },
  {
   "cell_type": "code",
   "execution_count": null,
   "id": "8278212b",
   "metadata": {},
   "outputs": [],
   "source": []
  }
 ],
 "metadata": {
  "kernelspec": {
   "display_name": "transformers",
   "language": "python",
   "name": "transformers"
  },
  "language_info": {
   "codemirror_mode": {
    "name": "ipython",
    "version": 3
   },
   "file_extension": ".py",
   "mimetype": "text/x-python",
   "name": "python",
   "nbconvert_exporter": "python",
   "pygments_lexer": "ipython3",
   "version": "3.9.11"
  }
 },
 "nbformat": 4,
 "nbformat_minor": 5
}
