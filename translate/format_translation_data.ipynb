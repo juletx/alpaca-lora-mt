{
 "cells": [
  {
   "cell_type": "code",
   "execution_count": 1,
   "id": "0b0eb471",
   "metadata": {},
   "outputs": [],
   "source": [
    "from tqdm.auto import tqdm\n",
    "import json\n",
    "from typing import List\n",
    "import random"
   ]
  },
  {
   "cell_type": "code",
   "execution_count": 96,
   "id": "a7b31b6e",
   "metadata": {},
   "outputs": [],
   "source": [
    "from tqdm.auto import tqdm\n",
    "import json\n",
    "from typing import List\n",
    "import random\n",
    "\n",
    "\n",
    "def prepare_data_for_translation(original_json: str, output_path: str):\n",
    "\n",
    "    with open(original_json, \"r\", encoding=\"utf-8\") as original_file, open(\n",
    "        output_path, \"w\", encoding=\"utf-8\"\n",
    "    ) as output_file:\n",
    "        data = json.load(original_file)\n",
    "        for example in tqdm(data):\n",
    "            instruction = example[\"instruction\"].strip()\n",
    "            model_input = example[\"input\"].strip()\n",
    "            model_output = example[\"output\"].strip()\n",
    "            if len(instruction) > 0:\n",
    "                print(\n",
    "                    instruction.replace(\"\\n\", r\"\\n\").replace(\"\\t\", r\"\\t\"),\n",
    "                    file=output_file,\n",
    "                )\n",
    "            if len(model_input) > 0:\n",
    "                print(\n",
    "                    model_input.replace(\"\\n\", r\"\\n\").replace(\"\\t\", r\"\\t\"),\n",
    "                    file=output_file,\n",
    "                )\n",
    "            if len(model_output) > 0:\n",
    "                print(\n",
    "                    model_output.replace(\"\\n\", r\"\\n\").replace(\"\\t\", r\"\\t\"),\n",
    "                    file=output_file,\n",
    "                )\n",
    "\n",
    "\n",
    "def build_from_translation(original_json: str, translations: str, output_json: str):\n",
    "    with open(original_json, \"r\", encoding=\"utf-8\") as original_file, open(\n",
    "        translations, \"r\", encoding=\"utf-8\"\n",
    "    ) as translation_file, open(output_json, \"w\", encoding=\"utf-8\") as output_file:\n",
    "        data = json.load(original_file)\n",
    "        translations = translation_file.readlines()\n",
    "        translations = [\n",
    "            line.strip().replace(\"\\\\n\", \"\\n\").replace(\"\\\\t\", \"\\t\")\n",
    "            for line in translations\n",
    "        ]\n",
    "        output_dict = []\n",
    "        i = 0\n",
    "        for example in tqdm(data):\n",
    "            translated_example = {\"instruction\": \"\", \"input\": \"\", \"output\": \"\"}\n",
    "            instruction = example[\"instruction\"].strip()\n",
    "            model_input = example[\"input\"].strip()\n",
    "            model_output = example[\"output\"].strip()\n",
    "\n",
    "            if len(instruction) > 0:\n",
    "                translated_example[\"instruction\"] = translations[i]\n",
    "                i += 1\n",
    "            if len(model_input) > 0:\n",
    "                translated_example[\"input\"] = translations[i]\n",
    "                i += 1\n",
    "            if len(model_output) > 0:\n",
    "                translated_example[\"output\"] = translations[i]\n",
    "                i += 1\n",
    "\n",
    "            output_dict.append(translated_example)\n",
    "\n",
    "        json.dump(output_dict, output_file, indent=4, ensure_ascii=False)\n",
    "\n",
    "\n",
    "def merge_examples(json_paths: List[str], output_path: str):\n",
    "    merged_examples = []\n",
    "    for json_path in json_paths:\n",
    "        with open(json_path, \"r\", encoding=\"utf-8\") as json_path:\n",
    "            data = json.load(json_path)\n",
    "            merged_examples.extend(data)\n",
    "\n",
    "    # shuffle\n",
    "    random.shuffle(merged_examples)\n",
    "    with open(output_path, \"w\", encoding=\"utf-8\") as output_file:\n",
    "        json.dump(merged_examples, output_file, indent=4, ensure_ascii=False)\n"
   ]
  },
  {
   "cell_type": "code",
   "execution_count": 97,
   "id": "5a0a3551",
   "metadata": {},
   "outputs": [
    {
     "data": {
      "application/vnd.jupyter.widget-view+json": {
       "model_id": "61a604ddc636439b909940ace754f020",
       "version_major": 2,
       "version_minor": 0
      },
      "text/plain": [
       "  0%|          | 0/51942 [00:00<?, ?it/s]"
      ]
     },
     "metadata": {},
     "output_type": "display_data"
    }
   ],
   "source": [
    "prepare_data_for_translation(\"../data/alpaca_data_cleaned.json\",\"../data/en.sentences.txt\")"
   ]
  },
  {
   "cell_type": "code",
   "execution_count": 98,
   "id": "5b1fc33a",
   "metadata": {},
   "outputs": [
    {
     "data": {
      "application/vnd.jupyter.widget-view+json": {
       "model_id": "f837429a3cf14c89a6b01230e7f92676",
       "version_major": 2,
       "version_minor": 0
      },
      "text/plain": [
       "  0%|          | 0/51942 [00:00<?, ?it/s]"
      ]
     },
     "metadata": {},
     "output_type": "display_data"
    }
   ],
   "source": [
    "build_from_translation(\"../data/alpaca_data_cleaned.json\",\"../data/en.sentences.txt\",\"../data/en.sanitycheck.json\")"
   ]
  },
  {
   "cell_type": "code",
   "execution_count": null,
   "id": "8bd3faee",
   "metadata": {},
   "outputs": [],
   "source": []
  }
 ],
 "metadata": {
  "kernelspec": {
   "display_name": "transformers",
   "language": "python",
   "name": "transformers"
  },
  "language_info": {
   "codemirror_mode": {
    "name": "ipython",
    "version": 3
   },
   "file_extension": ".py",
   "mimetype": "text/x-python",
   "name": "python",
   "nbconvert_exporter": "python",
   "pygments_lexer": "ipython3",
   "version": "3.9.11"
  }
 },
 "nbformat": 4,
 "nbformat_minor": 5
}
